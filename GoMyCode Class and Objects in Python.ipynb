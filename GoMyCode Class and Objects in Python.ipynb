{
 "cells": [
  {
   "cell_type": "code",
   "execution_count": 9,
   "id": "d5a5f6f0",
   "metadata": {},
   "outputs": [
    {
     "name": "stdout",
     "output_type": "stream",
     "text": [
      "<__main__.Point3D object at 0x0000022BAB2340D0>\n"
     ]
    }
   ],
   "source": [
    "'''Write a python class named Point3D defined by x, y, and z. Define a method that returns (x, y ,z). \n",
    "This tells Python to represent this object in the following format: (x, y, z). \n",
    "Then create a variable named my_point containing a new instance of Point3D with x=1, y=2, and z=3 and print it.'''\n",
    "\n",
    "class Point3D:\n",
    "    def __init__(self, x, y, z):\n",
    "        self.x = x\n",
    "        self.y = y\n",
    "        self.z = z\n",
    "    def returnfunction(self): \n",
    "        return self.x, self.y, self.z\n",
    "\n",
    "my_point = Point3D(1,2,3)\n",
    "print (my_point)"
   ]
  },
  {
   "cell_type": "code",
   "execution_count": 14,
   "id": "1d263e5d",
   "metadata": {},
   "outputs": [
    {
     "name": "stdout",
     "output_type": "stream",
     "text": [
      "12\n",
      "14\n"
     ]
    }
   ],
   "source": [
    "'''Write a Python class named Rectangle constructed by a length and width. \n",
    "Define two methods area and perimeter which will compute the area and the perimeter of the rectangle. \n",
    "Then create a variable named my_rectangle containing a new instance of Rectangle with width=3 and length = 4 \n",
    "and compute both of area and perimeter ( the area is expected to be 3*4=12 and perimeter 2*(3+4)=14)'''\n",
    "\n",
    "class Rectangle:\n",
    "    def __init__ (self, length, width):\n",
    "        self.length = length\n",
    "        self.width = width\n",
    "    \n",
    "    def area (self):\n",
    "        return self.length*self.width\n",
    "    \n",
    "    def perimeter (self):\n",
    "        return (2*(self.length+self.width))\n",
    "\n",
    "my_rectangle = Rectangle(4, 3)\n",
    "    \n",
    "print (my_rectangle.area())  \n",
    "print (my_rectangle.perimeter())  "
   ]
  },
  {
   "cell_type": "code",
   "execution_count": null,
   "id": "9bbc9d98",
   "metadata": {},
   "outputs": [],
   "source": [
    "'''Write a Python class named Circle constructed by its center O and radius r. \n",
    "Define two methods area and perimeter which will compute the area and the perimeter of the circle, \n",
    "and isInside() method of the class which allows to test whether a point A(x, y) belongs to the circle C(O, r) or not.'''\n",
    "\n",
    "import math\n",
    "class Circle:\n",
    "    def __init__ (self, center, radius):\n",
    "        self.center = center\n",
    "        self.radius = radius\n",
    "        \n",
    "    def area (self):\n",
    "        return (math.pi)*((self.radius)**2)\n",
    "    \n",
    "    def perimeter (self):\n",
    "        return (math.pi)*(self.radius)*2\n",
    "    \n",
    "    def isInside(self):\n",
    "        self.x = x\n",
    "        self.y = y\n",
    "        if (self.x-center)**2 + (self.y-center)**2 <= self.radius**2:\n",
    "            print ('Point is inside circle')\n",
    "        else:\n",
    "            print ('Point is outside circle')\n",
    "\n"
   ]
  },
  {
   "cell_type": "code",
   "execution_count": null,
   "id": "540d6950",
   "metadata": {},
   "outputs": [],
   "source": [
    "'''Suppose we want to model a bank account with support for deposit and withdraw operations. \n",
    "Let’s create a python class named bank defined by its balance. \n",
    "Define two methods deposit and withdraw to compute the new amount of each operation.'''\n",
    "\n",
    "class Bank:\n",
    "    def __init__(self, balance):\n",
    "        self.balance = balance\n",
    "    \n",
    "    def withdraw(self, amount):\n",
    "        self.balance -= amount\n",
    "        return self.balance\n",
    "\n",
    "    def deposit(self, amount):\n",
    "        self.balance += amount\n",
    "        return self.balance"
   ]
  }
 ],
 "metadata": {
  "kernelspec": {
   "display_name": "Python 3",
   "language": "python",
   "name": "python3"
  },
  "language_info": {
   "codemirror_mode": {
    "name": "ipython",
    "version": 3
   },
   "file_extension": ".py",
   "mimetype": "text/x-python",
   "name": "python",
   "nbconvert_exporter": "python",
   "pygments_lexer": "ipython3",
   "version": "3.8.8"
  }
 },
 "nbformat": 4,
 "nbformat_minor": 5
}
